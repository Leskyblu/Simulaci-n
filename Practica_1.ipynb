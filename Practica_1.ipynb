{
  "nbformat": 4,
  "nbformat_minor": 0,
  "metadata": {
    "colab": {
      "provenance": [],
      "authorship_tag": "ABX9TyPX2wp8P8/+Q7BGmbeVnZp9",
      "include_colab_link": true
    },
    "kernelspec": {
      "name": "python3",
      "display_name": "Python 3"
    },
    "language_info": {
      "name": "python"
    }
  },
  "cells": [
    {
      "cell_type": "markdown",
      "metadata": {
        "id": "view-in-github",
        "colab_type": "text"
      },
      "source": [
        "<a href=\"https://colab.research.google.com/github/Leskyblu/Simulaci-n/blob/main/Practica_1.ipynb\" target=\"_parent\"><img src=\"https://colab.research.google.com/assets/colab-badge.svg\" alt=\"Open In Colab\"/></a>"
      ]
    },
    {
      "cell_type": "code",
      "execution_count": null,
      "metadata": {
        "id": "s4ZG6hTO3Ct6"
      },
      "outputs": [],
      "source": []
    },
    {
      "cell_type": "markdown",
      "source": [
        "# Simulación\n",
        "\n",
        "## Unidad 2\n",
        "\n",
        "### Practica 1 .- Generación de números aleatorios por el método de centros al cuadrado\n",
        "\n",
        "Maestro: José Gabriel Rodriguez Rivas\n",
        "\n",
        "Alumno: José Erik Flores Rosales"
      ],
      "metadata": {
        "id": "7S9e6Ap73LjR"
      }
    },
    {
      "cell_type": "code",
      "source": [
        "# Semilla Inicial\n",
        "semilla = 2005\n",
        "n = 4\n",
        "iteraciones = 100\n",
        "resultados = []\n",
        "\n",
        "for _ in range(iteraciones):\n",
        "  # Elevar la semilla al cuadrado\n",
        "  cuadrado = str(semilla ** 2).zfill(2 * n) #Agregar los espacios necesarios\n",
        "  # Extraer los dígitos centrales\n",
        "  inicio = (len(cuadrado) - n) // 2\n",
        "  semilla = int(cuadrado[inicio:inicio + n])\n",
        "  resultados.append(semilla)\n",
        "\n",
        "# Imprimir los resultados\n",
        "for i, numero in enumerate(resultados, 1):\n",
        "    print(f\" Número Aleatorio {i}: {numero}\")"
      ],
      "metadata": {
        "colab": {
          "base_uri": "https://localhost:8080/"
        },
        "id": "aqDK62re3veF",
        "outputId": "a5087ae7-69d7-4bfc-f19a-86799ee077fe"
      },
      "execution_count": 2,
      "outputs": [
        {
          "output_type": "stream",
          "name": "stdout",
          "text": [
            " Número Aleatorio 1: 200\n",
            " Número Aleatorio 2: 400\n",
            " Número Aleatorio 3: 1600\n",
            " Número Aleatorio 4: 5600\n",
            " Número Aleatorio 5: 3600\n",
            " Número Aleatorio 6: 9600\n",
            " Número Aleatorio 7: 1600\n",
            " Número Aleatorio 8: 5600\n",
            " Número Aleatorio 9: 3600\n",
            " Número Aleatorio 10: 9600\n",
            " Número Aleatorio 11: 1600\n",
            " Número Aleatorio 12: 5600\n",
            " Número Aleatorio 13: 3600\n",
            " Número Aleatorio 14: 9600\n",
            " Número Aleatorio 15: 1600\n",
            " Número Aleatorio 16: 5600\n",
            " Número Aleatorio 17: 3600\n",
            " Número Aleatorio 18: 9600\n",
            " Número Aleatorio 19: 1600\n",
            " Número Aleatorio 20: 5600\n",
            " Número Aleatorio 21: 3600\n",
            " Número Aleatorio 22: 9600\n",
            " Número Aleatorio 23: 1600\n",
            " Número Aleatorio 24: 5600\n",
            " Número Aleatorio 25: 3600\n",
            " Número Aleatorio 26: 9600\n",
            " Número Aleatorio 27: 1600\n",
            " Número Aleatorio 28: 5600\n",
            " Número Aleatorio 29: 3600\n",
            " Número Aleatorio 30: 9600\n",
            " Número Aleatorio 31: 1600\n",
            " Número Aleatorio 32: 5600\n",
            " Número Aleatorio 33: 3600\n",
            " Número Aleatorio 34: 9600\n",
            " Número Aleatorio 35: 1600\n",
            " Número Aleatorio 36: 5600\n",
            " Número Aleatorio 37: 3600\n",
            " Número Aleatorio 38: 9600\n",
            " Número Aleatorio 39: 1600\n",
            " Número Aleatorio 40: 5600\n",
            " Número Aleatorio 41: 3600\n",
            " Número Aleatorio 42: 9600\n",
            " Número Aleatorio 43: 1600\n",
            " Número Aleatorio 44: 5600\n",
            " Número Aleatorio 45: 3600\n",
            " Número Aleatorio 46: 9600\n",
            " Número Aleatorio 47: 1600\n",
            " Número Aleatorio 48: 5600\n",
            " Número Aleatorio 49: 3600\n",
            " Número Aleatorio 50: 9600\n",
            " Número Aleatorio 51: 1600\n",
            " Número Aleatorio 52: 5600\n",
            " Número Aleatorio 53: 3600\n",
            " Número Aleatorio 54: 9600\n",
            " Número Aleatorio 55: 1600\n",
            " Número Aleatorio 56: 5600\n",
            " Número Aleatorio 57: 3600\n",
            " Número Aleatorio 58: 9600\n",
            " Número Aleatorio 59: 1600\n",
            " Número Aleatorio 60: 5600\n",
            " Número Aleatorio 61: 3600\n",
            " Número Aleatorio 62: 9600\n",
            " Número Aleatorio 63: 1600\n",
            " Número Aleatorio 64: 5600\n",
            " Número Aleatorio 65: 3600\n",
            " Número Aleatorio 66: 9600\n",
            " Número Aleatorio 67: 1600\n",
            " Número Aleatorio 68: 5600\n",
            " Número Aleatorio 69: 3600\n",
            " Número Aleatorio 70: 9600\n",
            " Número Aleatorio 71: 1600\n",
            " Número Aleatorio 72: 5600\n",
            " Número Aleatorio 73: 3600\n",
            " Número Aleatorio 74: 9600\n",
            " Número Aleatorio 75: 1600\n",
            " Número Aleatorio 76: 5600\n",
            " Número Aleatorio 77: 3600\n",
            " Número Aleatorio 78: 9600\n",
            " Número Aleatorio 79: 1600\n",
            " Número Aleatorio 80: 5600\n",
            " Número Aleatorio 81: 3600\n",
            " Número Aleatorio 82: 9600\n",
            " Número Aleatorio 83: 1600\n",
            " Número Aleatorio 84: 5600\n",
            " Número Aleatorio 85: 3600\n",
            " Número Aleatorio 86: 9600\n",
            " Número Aleatorio 87: 1600\n",
            " Número Aleatorio 88: 5600\n",
            " Número Aleatorio 89: 3600\n",
            " Número Aleatorio 90: 9600\n",
            " Número Aleatorio 91: 1600\n",
            " Número Aleatorio 92: 5600\n",
            " Número Aleatorio 93: 3600\n",
            " Número Aleatorio 94: 9600\n",
            " Número Aleatorio 95: 1600\n",
            " Número Aleatorio 96: 5600\n",
            " Número Aleatorio 97: 3600\n",
            " Número Aleatorio 98: 9600\n",
            " Número Aleatorio 99: 1600\n",
            " Número Aleatorio 100: 5600\n"
          ]
        }
      ]
    }
  ]
}